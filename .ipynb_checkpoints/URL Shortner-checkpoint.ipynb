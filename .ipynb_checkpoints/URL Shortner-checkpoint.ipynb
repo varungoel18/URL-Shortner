{
 "cells": [
  {
   "cell_type": "markdown",
   "id": "56f9642e",
   "metadata": {},
   "source": [
    "# URL Shortner\n",
    "<img src=\"shortner.jpeg\" width=500>"
   ]
  },
  {
   "cell_type": "code",
   "execution_count": 6,
   "id": "0a4c322c",
   "metadata": {},
   "outputs": [],
   "source": [
    "import random\n",
    "import string"
   ]
  },
  {
   "cell_type": "code",
   "execution_count": 7,
   "id": "cfa9f517",
   "metadata": {},
   "outputs": [],
   "source": [
    "DB = {}"
   ]
  },
  {
   "cell_type": "markdown",
   "id": "bc9a63d3",
   "metadata": {},
   "source": [
    "# Version - 1"
   ]
  },
  {
   "cell_type": "code",
   "execution_count": 8,
   "id": "ea581bf1",
   "metadata": {},
   "outputs": [],
   "source": [
    "def getShortURL(longURL):\n",
    "    \"\"\"\n",
    "    given a long URL, returns a short URL\n",
    "    \"\"\"\n",
    "    l = random.randint(4,6)\n",
    "    \n",
    "    # generating random characters\n",
    "    shortURL = ''.join([random.choice(chars) for chars in range(l)])\n",
    "    \n",
    "    \n",
    "    if shortURL in DB:\n",
    "        return getShortURL(longURL)\n",
    "    else:\n",
    "        DB[shortURL] = longURL\n",
    "        \n",
    "        \n",
    "    result = \"cm.in/\"+ shortURL\n",
    "    return result"
   ]
  },
  {
   "cell_type": "code",
   "execution_count": 9,
   "id": "9c52111a",
   "metadata": {},
   "outputs": [],
   "source": [
    "url = \"https://www.codingminutes.com\""
   ]
  },
  {
   "cell_type": "code",
   "execution_count": 10,
   "id": "2d8428c4",
   "metadata": {},
   "outputs": [
    {
     "ename": "NameError",
     "evalue": "name 'chars' is not defined",
     "output_type": "error",
     "traceback": [
      "\u001b[0;31m---------------------------------------------------------------------------\u001b[0m",
      "\u001b[0;31mNameError\u001b[0m                                 Traceback (most recent call last)",
      "\u001b[1;32m/home/varun/Desktop/python-programming-master-course-main/Projects/URL Shortner/.ipynb_checkpoints/URL Shortner-checkpoint.ipynb Cell 7'\u001b[0m in \u001b[0;36m<cell line: 1>\u001b[0;34m()\u001b[0m\n\u001b[0;32m----> <a href='vscode-notebook-cell:/home/varun/Desktop/python-programming-master-course-main/Projects/URL%20Shortner/.ipynb_checkpoints/URL%20Shortner-checkpoint.ipynb#ch0000006?line=0'>1</a>\u001b[0m getShortURL(url)\n",
      "\u001b[1;32m/home/varun/Desktop/python-programming-master-course-main/Projects/URL Shortner/.ipynb_checkpoints/URL Shortner-checkpoint.ipynb Cell 5'\u001b[0m in \u001b[0;36mgetShortURL\u001b[0;34m(longURL)\u001b[0m\n\u001b[1;32m      <a href='vscode-notebook-cell:/home/varun/Desktop/python-programming-master-course-main/Projects/URL%20Shortner/.ipynb_checkpoints/URL%20Shortner-checkpoint.ipynb#ch0000004?line=4'>5</a>\u001b[0m l \u001b[39m=\u001b[39m random\u001b[39m.\u001b[39mrandint(\u001b[39m4\u001b[39m,\u001b[39m6\u001b[39m)\n\u001b[1;32m      <a href='vscode-notebook-cell:/home/varun/Desktop/python-programming-master-course-main/Projects/URL%20Shortner/.ipynb_checkpoints/URL%20Shortner-checkpoint.ipynb#ch0000004?line=6'>7</a>\u001b[0m \u001b[39m# generating random characters\u001b[39;00m\n\u001b[0;32m----> <a href='vscode-notebook-cell:/home/varun/Desktop/python-programming-master-course-main/Projects/URL%20Shortner/.ipynb_checkpoints/URL%20Shortner-checkpoint.ipynb#ch0000004?line=7'>8</a>\u001b[0m shortURL \u001b[39m=\u001b[39m \u001b[39m'\u001b[39m\u001b[39m'\u001b[39m\u001b[39m.\u001b[39mjoin([random\u001b[39m.\u001b[39mchoice(chars) \u001b[39mfor\u001b[39;00m i \u001b[39min\u001b[39;00m \u001b[39mrange\u001b[39m(l)])\n\u001b[1;32m     <a href='vscode-notebook-cell:/home/varun/Desktop/python-programming-master-course-main/Projects/URL%20Shortner/.ipynb_checkpoints/URL%20Shortner-checkpoint.ipynb#ch0000004?line=10'>11</a>\u001b[0m \u001b[39mif\u001b[39;00m shortURL \u001b[39min\u001b[39;00m DB:\n\u001b[1;32m     <a href='vscode-notebook-cell:/home/varun/Desktop/python-programming-master-course-main/Projects/URL%20Shortner/.ipynb_checkpoints/URL%20Shortner-checkpoint.ipynb#ch0000004?line=11'>12</a>\u001b[0m     \u001b[39mreturn\u001b[39;00m getShortURL(longURL)\n",
      "\u001b[1;32m/home/varun/Desktop/python-programming-master-course-main/Projects/URL Shortner/.ipynb_checkpoints/URL Shortner-checkpoint.ipynb Cell 5'\u001b[0m in \u001b[0;36m<listcomp>\u001b[0;34m(.0)\u001b[0m\n\u001b[1;32m      <a href='vscode-notebook-cell:/home/varun/Desktop/python-programming-master-course-main/Projects/URL%20Shortner/.ipynb_checkpoints/URL%20Shortner-checkpoint.ipynb#ch0000004?line=4'>5</a>\u001b[0m l \u001b[39m=\u001b[39m random\u001b[39m.\u001b[39mrandint(\u001b[39m4\u001b[39m,\u001b[39m6\u001b[39m)\n\u001b[1;32m      <a href='vscode-notebook-cell:/home/varun/Desktop/python-programming-master-course-main/Projects/URL%20Shortner/.ipynb_checkpoints/URL%20Shortner-checkpoint.ipynb#ch0000004?line=6'>7</a>\u001b[0m \u001b[39m# generating random characters\u001b[39;00m\n\u001b[0;32m----> <a href='vscode-notebook-cell:/home/varun/Desktop/python-programming-master-course-main/Projects/URL%20Shortner/.ipynb_checkpoints/URL%20Shortner-checkpoint.ipynb#ch0000004?line=7'>8</a>\u001b[0m shortURL \u001b[39m=\u001b[39m \u001b[39m'\u001b[39m\u001b[39m'\u001b[39m\u001b[39m.\u001b[39mjoin([random\u001b[39m.\u001b[39mchoice(chars) \u001b[39mfor\u001b[39;00m i \u001b[39min\u001b[39;00m \u001b[39mrange\u001b[39m(l)])\n\u001b[1;32m     <a href='vscode-notebook-cell:/home/varun/Desktop/python-programming-master-course-main/Projects/URL%20Shortner/.ipynb_checkpoints/URL%20Shortner-checkpoint.ipynb#ch0000004?line=10'>11</a>\u001b[0m \u001b[39mif\u001b[39;00m shortURL \u001b[39min\u001b[39;00m DB:\n\u001b[1;32m     <a href='vscode-notebook-cell:/home/varun/Desktop/python-programming-master-course-main/Projects/URL%20Shortner/.ipynb_checkpoints/URL%20Shortner-checkpoint.ipynb#ch0000004?line=11'>12</a>\u001b[0m     \u001b[39mreturn\u001b[39;00m getShortURL(longURL)\n",
      "\u001b[0;31mNameError\u001b[0m: name 'chars' is not defined"
     ]
    }
   ],
   "source": [
    "getShortURL(url)"
   ]
  },
  {
   "cell_type": "code",
   "execution_count": null,
   "id": "ab024f57",
   "metadata": {},
   "outputs": [
    {
     "name": "stdout",
     "output_type": "stream",
     "text": [
      "{'kifnc': 'https://www.codingminutes.com'}\n"
     ]
    }
   ],
   "source": [
    "# Check Database\n",
    "print(DB)"
   ]
  },
  {
   "cell_type": "code",
   "execution_count": null,
   "id": "06a2a92c",
   "metadata": {},
   "outputs": [
    {
     "data": {
      "text/plain": [
       "'cm.in/qhiwk'"
      ]
     },
     "execution_count": 67,
     "metadata": {},
     "output_type": "execute_result"
    }
   ],
   "source": [
    "getShortURL(\"ide.codingminutes.com\")"
   ]
  },
  {
   "cell_type": "code",
   "execution_count": null,
   "id": "542b6e05",
   "metadata": {},
   "outputs": [
    {
     "name": "stdout",
     "output_type": "stream",
     "text": [
      "{'kifnc': 'https://www.codingminutes.com', 'qhiwk': 'ide.codingminutes.com'}\n"
     ]
    }
   ],
   "source": [
    "# Check Database\n",
    "print(DB)"
   ]
  },
  {
   "cell_type": "code",
   "execution_count": null,
   "id": "2ae14229",
   "metadata": {},
   "outputs": [],
   "source": []
  },
  {
   "cell_type": "code",
   "execution_count": null,
   "id": "830dd253",
   "metadata": {},
   "outputs": [],
   "source": [
    "def getLongURL(shortURL):\n",
    "    \"\"\"\n",
    "    given a short URL, returns a long URL.\n",
    "    \"\"\"\n",
    "    # https://www.cm.in.abcde -> abcde\n",
    "    key = shortURL.split('/')[-1]\n",
    "    \n",
    "    if key in DB:\n",
    "        return DB[key]\n",
    "    else:\n",
    "        return \"Short URL doesn’t exists.\""
   ]
  },
  {
   "cell_type": "code",
   "execution_count": null,
   "id": "1dbabfc9",
   "metadata": {},
   "outputs": [
    {
     "data": {
      "text/plain": [
       "'https://www.codingminutes.com'"
      ]
     },
     "execution_count": 70,
     "metadata": {},
     "output_type": "execute_result"
    }
   ],
   "source": [
    "getLongURL('cm.in/kifnc')"
   ]
  },
  {
   "cell_type": "code",
   "execution_count": null,
   "id": "5c6ac29e",
   "metadata": {},
   "outputs": [
    {
     "data": {
      "text/plain": [
       "'Short URL doesn’t exists.'"
      ]
     },
     "execution_count": 71,
     "metadata": {},
     "output_type": "execute_result"
    }
   ],
   "source": [
    "getLongURL('cm.in/abcde')"
   ]
  },
  {
   "cell_type": "code",
   "execution_count": null,
   "id": "05e42b8a",
   "metadata": {},
   "outputs": [],
   "source": []
  },
  {
   "cell_type": "markdown",
   "id": "e1741879",
   "metadata": {},
   "source": [
    "# Version - 2"
   ]
  },
  {
   "cell_type": "code",
   "execution_count": null,
   "id": "6b6d5e45",
   "metadata": {},
   "outputs": [],
   "source": [
    "def getShortURL(longURL, myShortURL=None):\n",
    "    \"\"\"\n",
    "    given a long URL, returns a short URL\n",
    "    \"\"\"\n",
    "    \n",
    "    if myShortURL:\n",
    "        if myShortURL in DB:\n",
    "            return \"Short URL already exists\"\n",
    "        else:\n",
    "            DB[myShortURL] = longURL\n",
    "            res = \"cm.in/\"+myShortURL\n",
    "            return res\n",
    "    \n",
    "    \n",
    "    l = random.randint(4,6)\n",
    "    \n",
    "    # generating random characters or numbers.\n",
    "    chars = string.ascii_lowercase + string.digits\n",
    "    shortURL = ''.join([random.choice(chars) for i in range(l)])\n",
    "    \n",
    "    \n",
    "    if shortURL is DB:\n",
    "        return getShortURL(longURL)\n",
    "    else:\n",
    "        DB[shortURL] = longURL\n",
    "        \n",
    "        \n",
    "    result = \"cm.in/\"+ shortURL\n",
    "    return result"
   ]
  },
  {
   "cell_type": "code",
   "execution_count": null,
   "id": "52002b69",
   "metadata": {},
   "outputs": [
    {
     "data": {
      "text/plain": [
       "{'kifnc': 'https://www.codingminutes.com', 'qhiwk': 'ide.codingminutes.com'}"
      ]
     },
     "execution_count": 82,
     "metadata": {},
     "output_type": "execute_result"
    }
   ],
   "source": [
    "DB"
   ]
  },
  {
   "cell_type": "code",
   "execution_count": null,
   "id": "3487f9a2",
   "metadata": {},
   "outputs": [
    {
     "data": {
      "text/plain": [
       "'cm.in/kyu2'"
      ]
     },
     "execution_count": 83,
     "metadata": {},
     "output_type": "execute_result"
    }
   ],
   "source": [
    "getShortURL(\"https://codingminutes.com\")"
   ]
  },
  {
   "cell_type": "code",
   "execution_count": null,
   "id": "14fab15c",
   "metadata": {},
   "outputs": [
    {
     "data": {
      "text/plain": [
       "{'kifnc': 'https://www.codingminutes.com',\n",
       " 'qhiwk': 'ide.codingminutes.com',\n",
       " 'kyu2': 'https://codingminutes.com'}"
      ]
     },
     "execution_count": 84,
     "metadata": {},
     "output_type": "execute_result"
    }
   ],
   "source": [
    "DB"
   ]
  },
  {
   "cell_type": "code",
   "execution_count": null,
   "id": "b7454023",
   "metadata": {},
   "outputs": [
    {
     "data": {
      "text/plain": [
       "'https://codingminutes.com'"
      ]
     },
     "execution_count": 85,
     "metadata": {},
     "output_type": "execute_result"
    }
   ],
   "source": [
    "getLongURL('cm.in/kyu2')"
   ]
  },
  {
   "cell_type": "code",
   "execution_count": null,
   "id": "e14e0a5c",
   "metadata": {},
   "outputs": [
    {
     "data": {
      "text/plain": [
       "'cm.in/home'"
      ]
     },
     "execution_count": 87,
     "metadata": {},
     "output_type": "execute_result"
    }
   ],
   "source": [
    "getShortURL(\"https://codingminutes.com\", \"home\")"
   ]
  },
  {
   "cell_type": "code",
   "execution_count": null,
   "id": "feeae4fd",
   "metadata": {},
   "outputs": [
    {
     "data": {
      "text/plain": [
       "{'kifnc': 'https://www.codingminutes.com',\n",
       " 'qhiwk': 'ide.codingminutes.com',\n",
       " 'kyu2': 'https://codingminutes.com',\n",
       " 'home': 'https://codingminutes.com'}"
      ]
     },
     "execution_count": 88,
     "metadata": {},
     "output_type": "execute_result"
    }
   ],
   "source": [
    "DB"
   ]
  },
  {
   "cell_type": "code",
   "execution_count": null,
   "id": "8f0ce05a",
   "metadata": {},
   "outputs": [
    {
     "data": {
      "text/plain": [
       "'cm.in/fb'"
      ]
     },
     "execution_count": 90,
     "metadata": {},
     "output_type": "execute_result"
    }
   ],
   "source": [
    "getShortURL(\"https://facebook.com\", \"fb\")"
   ]
  },
  {
   "cell_type": "code",
   "execution_count": null,
   "id": "b0072ddf",
   "metadata": {},
   "outputs": [
    {
     "data": {
      "text/plain": [
       "{'kifnc': 'https://www.codingminutes.com',\n",
       " 'qhiwk': 'ide.codingminutes.com',\n",
       " 'kyu2': 'https://codingminutes.com',\n",
       " 'home': 'https://codingminutes.com',\n",
       " 'fb': 'https://facebook.com'}"
      ]
     },
     "execution_count": 91,
     "metadata": {},
     "output_type": "execute_result"
    }
   ],
   "source": [
    "DB"
   ]
  },
  {
   "cell_type": "code",
   "execution_count": null,
   "id": "ff8e732e",
   "metadata": {},
   "outputs": [
    {
     "data": {
      "text/plain": [
       "'cm.in/ide'"
      ]
     },
     "execution_count": 92,
     "metadata": {},
     "output_type": "execute_result"
    }
   ],
   "source": [
    "getShortURL(\"ide.codingminutes.com\", \"ide\")"
   ]
  },
  {
   "cell_type": "code",
   "execution_count": null,
   "id": "e5f7a3fb",
   "metadata": {},
   "outputs": [
    {
     "data": {
      "text/plain": [
       "{'kifnc': 'https://www.codingminutes.com',\n",
       " 'qhiwk': 'ide.codingminutes.com',\n",
       " 'kyu2': 'https://codingminutes.com',\n",
       " 'home': 'https://codingminutes.com',\n",
       " 'fb': 'https://facebook.com',\n",
       " 'ide': 'ide.codingminutes.com'}"
      ]
     },
     "execution_count": 93,
     "metadata": {},
     "output_type": "execute_result"
    }
   ],
   "source": [
    "DB"
   ]
  },
  {
   "cell_type": "code",
   "execution_count": null,
   "id": "e73e0b66",
   "metadata": {},
   "outputs": [],
   "source": [
    "def updateLongURL(shortURL, newLongURL):\n",
    "    if shortURL in DB:\n",
    "        shortURL = shortURL.split(\"/\")[-1]\n",
    "        DB[shortURL] = newLongURL\n",
    "        res = \"cm.in/\" + shortURL\n",
    "        return res\n",
    "    else:\n",
    "        return \"Short URL doesn't exists.\""
   ]
  },
  {
   "cell_type": "code",
   "execution_count": null,
   "id": "67673915",
   "metadata": {},
   "outputs": [
    {
     "data": {
      "text/plain": [
       "'cm.in/ide'"
      ]
     },
     "execution_count": 95,
     "metadata": {},
     "output_type": "execute_result"
    }
   ],
   "source": [
    "updateLongURL(\"ide\", \"https://www.google.com\")"
   ]
  },
  {
   "cell_type": "code",
   "execution_count": null,
   "id": "2a909450",
   "metadata": {},
   "outputs": [
    {
     "data": {
      "text/plain": [
       "'https://www.google.com'"
      ]
     },
     "execution_count": 96,
     "metadata": {},
     "output_type": "execute_result"
    }
   ],
   "source": [
    "getLongURL('cm.in/ide')"
   ]
  },
  {
   "cell_type": "code",
   "execution_count": null,
   "id": "6def58e9",
   "metadata": {},
   "outputs": [
    {
     "data": {
      "text/plain": [
       "{'kifnc': 'https://www.codingminutes.com',\n",
       " 'qhiwk': 'ide.codingminutes.com',\n",
       " 'kyu2': 'https://codingminutes.com',\n",
       " 'home': 'https://codingminutes.com',\n",
       " 'fb': 'https://facebook.com',\n",
       " 'ide': 'https://www.google.com'}"
      ]
     },
     "execution_count": 97,
     "metadata": {},
     "output_type": "execute_result"
    }
   ],
   "source": [
    "DB"
   ]
  },
  {
   "cell_type": "code",
   "execution_count": null,
   "id": "90717756",
   "metadata": {},
   "outputs": [
    {
     "data": {
      "text/plain": [
       "'cm.in/ide'"
      ]
     },
     "execution_count": 98,
     "metadata": {},
     "output_type": "execute_result"
    }
   ],
   "source": [
    "updateLongURL(\"ide\", \"ide.codingminutes.com\")"
   ]
  },
  {
   "cell_type": "code",
   "execution_count": null,
   "id": "2d89094d",
   "metadata": {},
   "outputs": [
    {
     "data": {
      "text/plain": [
       "{'kifnc': 'https://www.codingminutes.com',\n",
       " 'qhiwk': 'ide.codingminutes.com',\n",
       " 'kyu2': 'https://codingminutes.com',\n",
       " 'home': 'https://codingminutes.com',\n",
       " 'fb': 'https://facebook.com',\n",
       " 'ide': 'ide.codingminutes.com'}"
      ]
     },
     "execution_count": 99,
     "metadata": {},
     "output_type": "execute_result"
    }
   ],
   "source": [
    "DB"
   ]
  },
  {
   "cell_type": "code",
   "execution_count": null,
   "id": "e29b8c53",
   "metadata": {},
   "outputs": [],
   "source": []
  }
 ],
 "metadata": {
  "interpreter": {
   "hash": "916dbcbb3f70747c44a77c7bcd40155683ae19c65e1c03b4aa3499c5328201f1"
  },
  "kernelspec": {
   "display_name": "Python 3.8.10 64-bit",
   "language": "python",
   "name": "python3"
  },
  "language_info": {
   "codemirror_mode": {
    "name": "ipython",
    "version": 3
   },
   "file_extension": ".py",
   "mimetype": "text/x-python",
   "name": "python",
   "nbconvert_exporter": "python",
   "pygments_lexer": "ipython3",
   "version": "3.8.10"
  }
 },
 "nbformat": 4,
 "nbformat_minor": 5
}
